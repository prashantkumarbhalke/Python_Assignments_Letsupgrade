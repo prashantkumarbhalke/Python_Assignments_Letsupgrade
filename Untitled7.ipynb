{
 "cells": [
  {
   "cell_type": "code",
   "execution_count": 1,
   "metadata": {},
   "outputs": [
    {
     "name": "stdout",
     "output_type": "stream",
     "text": [
      "[3, 7, 9]\n"
     ]
    }
   ],
   "source": [
    "list1=[(1,2),(3,4),(4,5)]\n",
    "list2=[]\n",
    "for i in list1:\n",
    "    list2.append(i[0]+i[1])\n",
    "print(list2)    \n"
   ]
  },
  {
   "cell_type": "code",
   "execution_count": 2,
   "metadata": {},
   "outputs": [
    {
     "name": "stdout",
     "output_type": "stream",
     "text": [
      "{'ftp': 21, 'http': 80, 'ssh': 22, 'telnet': 23}\n"
     ]
    }
   ],
   "source": [
    "port1={21:'ftp', 22:'ssh', 23:'telnet',80:'http'}\n",
    "port2={}\n",
    "for k,v in port1.items():\n",
    "    port2[v]=k\n",
    "print(port2)"
   ]
  },
  {
   "cell_type": "code",
   "execution_count": 3,
   "metadata": {},
   "outputs": [
    {
     "name": "stdout",
     "output_type": "stream",
     "text": [
      "[1, 2, 3, 1, 2, 'a', 'hit', 'less']\n"
     ]
    }
   ],
   "source": [
    "list1=[(1,2,3),[1,2],['a','hit','less']]\n",
    "list2=[]\n",
    "for i in list1:\n",
    "    for j in i:\n",
    "        list2.append(j)\n",
    "print(list2)"
   ]
  },
  {
   "cell_type": "code",
   "execution_count": null,
   "metadata": {},
   "outputs": [],
   "source": []
  }
 ],
 "metadata": {
  "kernelspec": {
   "display_name": "Python 2",
   "language": "python",
   "name": "python2"
  },
  "language_info": {
   "codemirror_mode": {
    "name": "ipython",
    "version": 2
   },
   "file_extension": ".py",
   "mimetype": "text/x-python",
   "name": "python",
   "nbconvert_exporter": "python",
   "pygments_lexer": "ipython2",
   "version": "2.7.16"
  }
 },
 "nbformat": 4,
 "nbformat_minor": 2
}
